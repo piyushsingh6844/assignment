{
 "cells": [
  {
   "cell_type": "code",
   "execution_count": 7,
   "id": "e59025fa-e13e-45c9-9449-cedd05037a4a",
   "metadata": {},
   "outputs": [
    {
     "ename": "SyntaxError",
     "evalue": "invalid syntax (1370339854.py, line 1)",
     "output_type": "error",
     "traceback": [
      "\u001b[0;36m  Cell \u001b[0;32mIn[7], line 1\u001b[0;36m\u001b[0m\n\u001b[0;31m    Question 1 - A database is  an organised collection of structured information ,or data ,typically stored electronically in a computer system so that it can be easily accessed and managed.\u001b[0m\n\u001b[0m             ^\u001b[0m\n\u001b[0;31mSyntaxError\u001b[0m\u001b[0;31m:\u001b[0m invalid syntax\n"
     ]
    }
   ],
   "source": [
    "Question 1 - A database is  an organised collection of structured information ,or data ,typically stored electronically in a computer system so that it can be easily accessed and managed.\n",
    "\n",
    "   NoSQL-A NoSQL database is an approach to design such databases that can accommodate a wide variety of data models. \n",
    "(NoSQL) stands for \"not only SQL.\" It is an alternative to traditional relational databases in which data is placed in tables, and data schema is perfectly designed before the database is built.\n",
    " (NoSQL) databases are useful for a large set of distributed data.\n",
    "    \n",
    "    \n",
    "    SQL-SQL or Structured Query Language is used to operate on the data stored in a database. SQL depends on relational algebra and tuple relational calculus.\n"
   ]
  },
  {
   "cell_type": "code",
   "execution_count": 8,
   "id": "64eeadcc-28e9-4e2e-88a5-7fd38fc84730",
   "metadata": {},
   "outputs": [
    {
     "ename": "SyntaxError",
     "evalue": "invalid syntax (1284526923.py, line 1)",
     "output_type": "error",
     "traceback": [
      "\u001b[0;36m  Cell \u001b[0;32mIn[8], line 1\u001b[0;36m\u001b[0m\n\u001b[0;31m    Question 2-Data Definition Language (DDL) is used to create and modify the structure of objects in a database using predefined commands and a specific syntax.\u001b[0m\n\u001b[0m             ^\u001b[0m\n\u001b[0;31mSyntaxError\u001b[0m\u001b[0;31m:\u001b[0m invalid syntax\n"
     ]
    }
   ],
   "source": [
    "Question 2-Data Definition Language (DDL) is used to create and modify the structure of objects in a database using predefined commands and a specific syntax. \n",
    "These database objects include tables, sequences, locations, aliases, schemas and indexes.\n",
    "\n",
    "\n",
    "Create-This command is used to create table in the relational database.\n",
    "   Ex=\n",
    "    CREATE TABLE Employee\n",
    "     (Student_id INT, \n",
    "       Name VARCHAR(100), \n",
    "       Marks INT); \n",
    "Alter-  To add a column,to rename existing column,drop a column \n",
    "         , to modify the size of the column or change \n",
    "    Ex=\n",
    "    ALTER TABLE Student \n",
    "ADD\n",
    "(Address  VARCHAR(200)); \n",
    "\n",
    "Turncate-This command removes all the records from a table.\n",
    "But this command will not destroy the table’s structure. \n",
    "\n",
    "    Ex=\n",
    "    TRUNCATE TABLE Student; \n",
    "  \n",
    "DROP-This command completely removes the table from the database \n",
    "along with the destruction of the table structure. \n",
    "\n",
    "   Ex=\n",
    "    DROP TABLE Student; \n",
    "    "
   ]
  },
  {
   "cell_type": "code",
   "execution_count": null,
   "id": "c4ebe431-a04a-47eb-b2d5-fc6b7b7e02f2",
   "metadata": {},
   "outputs": [],
   "source": [
    "DML stands for Data Manipulation Language. Tables and formulas are helpful when communicating with data stored up to a point in a database through SQL,\n",
    "but a time comes when we actually want to execute some fairly complicated data interactions. We will also need the Data Manipulation Language in that situation.\n",
    "DML is a way to inform a database precisely what we want it to do by conversing in a manner that it has been built to comprehend from the scratch.\n",
    "\n",
    "\n",
    "Delete-It deletes all archives from a table. This command is used to erase some or all of the previous table’s records. \n",
    "If we do not specify the ‘WHERE’ condition then all the rows would be erased or deleted\n",
    "  Ex-\n",
    "    DELETE FROM students\n",
    "\n",
    "WHERE stu_id = '001'; \n",
    "\n",
    "Insert-This command is used to enter the information or values into a row.\n",
    "We can connect one or more records to a single table within a repository using this instruction.\n",
    "\n",
    "Example :\n",
    "\n",
    "INSERT INTO students ('stu_id' int, 'stu_name' varchar(20), 'city' varchar(20))\n",
    "\n",
    "VALUES ('1', 'Nirmit', 'Gorakhpur'); \n",
    "Update-This command is used to alter existing table records. Within a table, it modifies data from one or more records.\n",
    "This command is used to alter the data which is already present in a table.\n",
    "Example :\n",
    "\n",
    "UPDATE students\n",
    "\n",
    "SET due_fees = 20000\n",
    "\n",
    "WHERE stu_name = 'Mini';\n",
    "\n"
   ]
  },
  {
   "cell_type": "code",
   "execution_count": null,
   "id": "e15d6027-f946-44bc-a6a6-64e0107ff369",
   "metadata": {},
   "outputs": [],
   "source": [
    "DQL is used for retrieving data. A user can retrieve data according to his/her requirements using the select command. \n",
    "\n",
    "Example: \n",
    "If a user wants to retrieve all the from the employee table, the query must be given as follows: \n",
    " \n",
    "\n",
    "select *from employee;  \n",
    "asterisk mark (*) indicates that all the rows are retrieved from the table. "
   ]
  },
  {
   "cell_type": "code",
   "execution_count": null,
   "id": "33fe2df2-4134-416f-8e7e-3a30054bd891",
   "metadata": {},
   "outputs": [],
   "source": [
    "Primary Key  is a unique key.\n",
    "It can identify only one tuple (a record) at a time.\n",
    "It has no duplicate values, it has unique values.\n",
    "It cannot be NULL.\n",
    "Primary keys are not necessarily to be a single column; more than one \n",
    "the column can also be a primary key for a table.\n",
    "\n",
    "\n",
    " Foreign Key is a key it acts as a primary key in one table and it acts as \n",
    "secondary key in another table.\n",
    "It combines two or more relations (table) at a time.\n",
    "They act as a cross-reference between the tables.\n",
    "For example, DNO is a primary key in the DEPT table and a non-key in EMP"
   ]
  },
  {
   "cell_type": "code",
   "execution_count": null,
   "id": "e54941d4-73c9-4a44-9d08-0554f3910a81",
   "metadata": {},
   "outputs": [],
   "source": [
    "import pymysql\n",
    "\n",
    "def mysqlconnect():\n",
    "\t# To connect MySQL database\n",
    "\tconn = pymysql.connect(\n",
    "\t\thost='localhost',\n",
    "\t\tuser='root',\n",
    "\t\tpassword = \"pass\",\n",
    "\t\tdb='College',\n",
    "\t\t)\n",
    "\t\n",
    "\tcur = conn.cursor()\n",
    "\tcur.execute(\"select @@version\")\n",
    "\toutput = cur.fetchall()\n",
    "\tprint(output)\n",
    "\t\n",
    "\t# To close the connection\n",
    "\tconn.close()\n",
    "\n",
    "\n",
    "if __name__ == \"__main__\" :\n",
    "\tmysqlconnect()\n"
   ]
  },
  {
   "cell_type": "code",
   "execution_count": null,
   "id": "772e9f46-b5e9-4476-8768-8fa2edf141d8",
   "metadata": {},
   "outputs": [],
   "source": [
    "Question 7 =\n",
    "The actual execution of MySQL statements is a bit tricky.\n",
    "However, the standard does specify the order of interpretation of elements in the query. \n",
    "This is basically in the order that you specify, although I think HAVING and GROUP BY could come after SELECT: FROM clause. WHERE clause. SELECT clause. GROUP BY clause. HAVING clause.\n"
   ]
  }
 ],
 "metadata": {
  "kernelspec": {
   "display_name": "Python 3 (ipykernel)",
   "language": "python",
   "name": "python3"
  },
  "language_info": {
   "codemirror_mode": {
    "name": "ipython",
    "version": 3
   },
   "file_extension": ".py",
   "mimetype": "text/x-python",
   "name": "python",
   "nbconvert_exporter": "python",
   "pygments_lexer": "ipython3",
   "version": "3.10.8"
  }
 },
 "nbformat": 4,
 "nbformat_minor": 5
}
